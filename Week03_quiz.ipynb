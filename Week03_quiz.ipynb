{
 "cells": [
  {
   "cell_type": "markdown",
   "metadata": {},
   "source": [
    "#### 1\n",
    "\n",
    "You are building a 3-class object classification and localization algorithm. The classes are: pedestrian (c=1), car (c=2), motorcycle (c=3). What would be the label for the following image? Recall y=[pc,bx,by,bh,bw,c1,c2,c3]\n",
    "\n",
    "\n",
    "y=[1,0.3,0.7,0.3,0.3,0,1,0] CORRECT\n",
    "\n",
    "y=[1,0.7,0.5,0.3,0.3,0,1,0]\n",
    "\n",
    "y=[1,0.3,0.7,0.5,0.5,0,1,0]\n",
    "\n",
    "y=[1,0.3,0.7,0.5,0.5,1,0,0]"
   ]
  },
  {
   "cell_type": "markdown",
   "metadata": {},
   "source": [
    "#### 2\n",
    "\n",
    "Continuing from the previous problem, what should y be for the image below? Remember that “?” means “don’t care”, which means that the neural network loss function won’t care what the neural network gives for that component of the output. As before, y=[pc,bx,by,bh,bw,c1,c2,c3].\n",
    "\n",
    "y=[?,?,?,?,?,?,?,?]\n",
    "\n",
    "y=[1,?,?,?,?,?,?,?]\n",
    "\n",
    "y=[0,?,?,?,?,0,0,0]\n",
    "\n",
    "y=[1,?,?,?,?,0,0,0]\n",
    "\n",
    "y=[0,?,?,?,?,?,?,?] CORRECT"
   ]
  },
  {
   "cell_type": "markdown",
   "metadata": {},
   "source": [
    "#### 3\n",
    "\n",
    "You are working on a factory automation task. Your system will see a can of soft-drink coming down a conveyor belt, and you want it to take a picture and decide whether (i) there is a soft-drink can in the image, and if so (ii) its bounding box. Since the soft-drink can is round, the bounding box is always square, and the soft drink can always appears as the same size in the image. There is at most one soft drink can in each image. Here’re some typical images in your training set:\n",
    "\n",
    "What is the most appropriate set of output units for your neural network?\n",
    "\n",
    "Logistic unit (for classifying if there is a soft-drink can in the image)\n",
    "\n",
    "Logistic unit, bx and by CORRECT\n",
    "\n",
    "Logistic unit, bx, by, bh (since bw = bh)\n",
    "\n",
    "Logistic unit, bx, by, bh, bw"
   ]
  },
  {
   "cell_type": "markdown",
   "metadata": {},
   "source": [
    "#### 4\n",
    "\n",
    "If you build a neural network that inputs a picture of a person’s face and outputs N landmarks on the face (assume the input image always contains exactly one face), how many output units will the network have?\n",
    "\n",
    "N\n",
    "\n",
    "2N CORRECT\n",
    "\n",
    "3N\n",
    "\n",
    "N2"
   ]
  },
  {
   "cell_type": "markdown",
   "metadata": {},
   "source": [
    "#### 5\n",
    "\n",
    "When training one of the object detection systems described in lecture, you need a training set that contains many pictures of the object(s) you wish to detect. However, bounding boxes do not need to be provided in the training set, since the algorithm can learn to detect the objects by itself.\n",
    "\n",
    "True\n",
    "\n",
    "False CORRECT"
   ]
  },
  {
   "cell_type": "markdown",
   "metadata": {},
   "source": [
    "#### 6\n",
    "\n",
    "Suppose you are applying a sliding windows classifier (non-convolutional implementation). Increasing the stride would tend to increase accuracy, but decrease computational cost.\n",
    "\n",
    "True\n",
    "\n",
    "False CORRECT"
   ]
  },
  {
   "cell_type": "markdown",
   "metadata": {},
   "source": [
    "#### 7\n",
    "\n",
    "In the YOLO algorithm, at training time, only one cell ---the one containing the center/midpoint of an object--- is responsible for detecting this object.\n",
    "\n",
    "True CORRECT\n",
    "\n",
    "False"
   ]
  },
  {
   "cell_type": "markdown",
   "metadata": {},
   "source": [
    "#### 8\n",
    "\n",
    "What is the IoU between these two boxes? The upper-left box is 2x2, and the lower-right box is 2x3. The overlapping region is 1x1.\n",
    "\n",
    "1/6\n",
    "\n",
    "1/9 CORRECT\n",
    "\n",
    "1/10\n",
    "\n",
    "None of the above"
   ]
  },
  {
   "cell_type": "markdown",
   "metadata": {},
   "source": [
    "#### 9\n",
    "\n",
    "Suppose you run non-max suppression on the predicted boxes above. The parameters you use for non-max suppression are that boxes with probability ≤ 0.4 are discarded, and the IoU threshold for deciding if two boxes overlap is 0.5. How many boxes will remain after non-max suppression?\n",
    "\n",
    "3\n",
    "\n",
    "4\n",
    "\n",
    "5 CORRECT\n",
    "\n",
    "6\n",
    "\n",
    "7"
   ]
  },
  {
   "cell_type": "markdown",
   "metadata": {},
   "source": [
    "#### 10\n",
    "\n",
    "\n",
    "Suppose you are using YOLO on a 19x19 grid, on a detection problem with 20 classes, and with 5 anchor boxes. During training, for each image you will need to construct an output volume y as the target value for the neural network; this corresponds to the last layer of the neural network. (y may include some “?”, or “don’t cares”). What is the dimension of this output volume?\n",
    "\n",
    "19x19x(5x25)\n",
    "\n",
    "19x19x(25x20)\n",
    "\n",
    "19x19x(5x20)\n",
    "\n",
    "19x19x(20x25)"
   ]
  }
 ],
 "metadata": {
  "kernelspec": {
   "display_name": "Python 3",
   "language": "python",
   "name": "python3"
  },
  "language_info": {
   "codemirror_mode": {
    "name": "ipython",
    "version": 3
   },
   "file_extension": ".py",
   "mimetype": "text/x-python",
   "name": "python",
   "nbconvert_exporter": "python",
   "pygments_lexer": "ipython3",
   "version": "3.6.2"
  }
 },
 "nbformat": 4,
 "nbformat_minor": 0
}
