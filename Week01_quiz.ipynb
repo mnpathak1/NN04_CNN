{
 "cells": [
  {
   "cell_type": "markdown",
   "metadata": {},
   "source": [
    "#### 1\n",
    "\n",
    "What do you think applying this filter to a grayscale image will do?\n",
    "\n",
    "[0 1 -1 0  \n",
    " 1 3 -3 -1  \n",
    " 1 3 -3 -1  \n",
    " 0 1 -1 0]  \n",
    "\n",
    "Detect vertical edges\n",
    "\n",
    "Detect 45 degree edges\n",
    "\n",
    "Detect horizontal edges\n",
    "\n",
    "Detect image contrast"
   ]
  },
  {
   "cell_type": "markdown",
   "metadata": {},
   "source": [
    "#### 2\n",
    "\n",
    "Suppose your input is a 300 by 300 color (RGB) image, and you are not using a convolutional network. If the first hidden layer has 100 neurons, each one fully connected to the input, how many parameters does this hidden layer have (including the bias parameters)?\n",
    "\n",
    "9,000,001\n",
    "\n",
    "9,000,100\n",
    "\n",
    "27,000,001\n",
    "\n",
    "27,000,100 [300 x 300 x 3 + 100]"
   ]
  },
  {
   "cell_type": "markdown",
   "metadata": {},
   "source": [
    "#### 3\n",
    "\n",
    "Suppose your input is a 300 by 300 color (RGB) image, and you use a convolutional layer with 100 filters that are each 5x5. How many parameters does this hidden layer have (including the bias parameters)?\n",
    "\n",
    "2501\n",
    "\n",
    "2600\n",
    "\n",
    "7500\n",
    "\n",
    "7600 [ (5 x 5 x 3 + 1) x 100]"
   ]
  },
  {
   "cell_type": "markdown",
   "metadata": {},
   "source": [
    "#### 4\n",
    "\n",
    "You have an input volume that is 63x63x16, and convolve it with 32 filters that are each 7x7, using a stride of 2 and no padding. What is the output volume?\n",
    "\n",
    "29x29x32 [ (63 + 2x0 - 7)/2 +1 = 29 ] \n",
    "\n",
    "16x16x32\n",
    "\n",
    "16x16x16\n",
    "\n",
    "29x29x16 "
   ]
  },
  {
   "cell_type": "markdown",
   "metadata": {},
   "source": [
    "#### 5\n",
    "\n",
    "You have an input volume that is 15x15x8, and pad it using “pad=2.” What is the dimension of the resulting volume (after padding)?\n",
    "\n",
    "17x17x8\n",
    "\n",
    "19x19x8 [ (19+2) x (19+2) x 8 ]\n",
    "\n",
    "19x19x12\n",
    "\n",
    "17x17x10 "
   ]
  },
  {
   "cell_type": "markdown",
   "metadata": {},
   "source": [
    "#### 6\n",
    "\n",
    "You have an input volume that is 63x63x16, and convolve it with 32 filters that are each 7x7, and stride of 1. You want to use a “same” convolution. What is the padding?\n",
    "\n",
    "1\n",
    "\n",
    "2\n",
    "\n",
    "3 [ (f-1)/2 = (7-1)/2 = 3 ]\n",
    "\n",
    "7"
   ]
  },
  {
   "cell_type": "markdown",
   "metadata": {},
   "source": [
    "#### 7\n",
    "\n",
    "You have an input volume that is 32x32x16, and apply max pooling with a stride of 2 and a filter size of 2. What is the output volume?\n",
    "\n",
    "15x15x16\n",
    "\n",
    "32x32x8\n",
    "\n",
    "16x16x16 [ (32 + 2x0 - 2)/2 +1 = 16 ] \n",
    "\n",
    "16x16x8"
   ]
  },
  {
   "cell_type": "markdown",
   "metadata": {},
   "source": [
    "#### 8\n",
    "\n",
    "Because pooling layers do not have parameters, they do not affect the backpropagation (derivatives) calculation.\n",
    "\n",
    "True\n",
    "\n",
    "False"
   ]
  },
  {
   "cell_type": "markdown",
   "metadata": {},
   "source": [
    "#### 9\n",
    "\n",
    "In lecture we talked about “parameter sharing” as a benefit of using convolutional networks. Which of the following statements about parameter sharing in ConvNets are true? (Check all that apply.)\n",
    "\n",
    "It reduces the total number of parameters, thus reducing overfitting.\n",
    "\n",
    "It allows a feature detector to be used in multiple locations throughout the whole input image/input volume.\n",
    "\n",
    "It allows parameters learned for one task to be shared even for a different task (transfer learning).\n",
    "\n",
    "It allows gradient descent to set many of the parameters to zero, thus making the connections sparse."
   ]
  },
  {
   "cell_type": "markdown",
   "metadata": {},
   "source": [
    "#### 10\n",
    "\n",
    "In lecture we talked about “sparsity of connections” as a benefit of using convolutional layers. What does this mean?\n",
    "\n",
    "Each activation in the next layer depends on only a small number of activations from the previous layer.\n",
    "\n",
    "Each filter is connected to every channel in the previous layer.\n",
    "\n",
    "Each layer in a convolutional network is connected only to two other layers\n",
    "\n",
    "Regularization causes gradient descent to set many of the parameters to zero."
   ]
  }
 ],
 "metadata": {
  "kernelspec": {
   "display_name": "Python 3",
   "language": "python",
   "name": "python3"
  },
  "language_info": {
   "codemirror_mode": {
    "name": "ipython",
    "version": 3
   },
   "file_extension": ".py",
   "mimetype": "text/x-python",
   "name": "python",
   "nbconvert_exporter": "python",
   "pygments_lexer": "ipython3",
   "version": "3.6.2"
  }
 },
 "nbformat": 4,
 "nbformat_minor": 0
}
