{
 "cells": [
  {
   "cell_type": "markdown",
   "metadata": {
    "deletable": true,
    "editable": true
   },
   "source": [
    "#### 1\n",
    "\n",
    "Which of the following do you typically see as you move to deeper layers in a ConvNet?\n",
    "\n",
    "nH and nW increases, while nC also increases\n",
    "\n",
    "nH and nW increases, while nC decreases\n",
    "\n",
    "nH and nW decreases, while nC also decreases\n",
    "\n",
    "nH and nW decrease, while nC increases CORRECT"
   ]
  },
  {
   "cell_type": "markdown",
   "metadata": {
    "deletable": true,
    "editable": true
   },
   "source": [
    "#### 2\n",
    "\n",
    "Which of the following do you typically see in a ConvNet? (Check all that apply.)\n",
    "\n",
    "Multiple CONV layers followed by a POOL layer CORRECT\n",
    "\n",
    "Multiple POOL layers followed by a CONV layer\n",
    "\n",
    "FC layers in the last few layers CORRECT\n",
    "\n",
    "FC layers in the first few layers"
   ]
  },
  {
   "cell_type": "markdown",
   "metadata": {
    "deletable": true,
    "editable": true
   },
   "source": [
    "#### 3\n",
    "\n",
    "In order to be able to build very deep networks, we usually only use pooling layers to downsize the height/width of the activation volumes while convolutions are used with “valid” padding. Otherwise, we would downsize the input of the model too quickly.\n",
    "\n",
    "True\n",
    "\n",
    "False CORRECT"
   ]
  },
  {
   "cell_type": "markdown",
   "metadata": {
    "deletable": true,
    "editable": true
   },
   "source": [
    "#### 4\n",
    "\n",
    "Training a deeper network (for example, adding additional layers to the network) allows the network to fit more complex functions and thus almost always results in lower training error. For this question, assume we’re referring to “plain” networks.\n",
    "\n",
    "True\n",
    "\n",
    "False CORRECT"
   ]
  },
  {
   "cell_type": "markdown",
   "metadata": {
    "deletable": true,
    "editable": true
   },
   "source": [
    "#### 5\n",
    "\n",
    "The following equation captures the computation in a ResNet block. What goes into the two blanks above?\n",
    "\n",
    "a[l+2]=g(W[l+2]g(W[l+1]a[l]+b[l+1])+bl+2+_______ )+_______\n",
    "\n",
    "a[l] and 0, respectively CORRECT\n",
    "\n",
    "z[l] and a[l], respectively\n",
    "\n",
    "0 and a[l], respectively\n",
    "\n",
    "0 and z[l+1], respectively"
   ]
  },
  {
   "cell_type": "markdown",
   "metadata": {
    "deletable": true,
    "editable": true
   },
   "source": [
    "#### 6\n",
    "\n",
    "Which ones of the following statements on Residual Networks are true? (Check all that apply.)\n",
    "\n",
    "The skip-connections compute a complex non-linear function of the input to pass to a deeper layer in the network.\n",
    "\n",
    "The skip-connection makes it easy for the network to learn an identity mapping between the input and the output within the ResNet block. CORRECT\n",
    "\n",
    "A ResNet with L layers would have on the order of L2 skip connections in total.\n",
    "\n",
    "Using a skip-connection helps the gradient to backpropagate and thus helps you to train deeper networks CORRECT"
   ]
  },
  {
   "cell_type": "markdown",
   "metadata": {
    "deletable": true,
    "editable": true
   },
   "source": [
    "#### 7\n",
    "\n",
    "Suppose you have an input volume of dimension 64x64x16. How many parameters would a single 1x1 convolutional filter have (including the bias)?\n",
    "\n",
    "2\n",
    "\n",
    "1\n",
    "\n",
    "17 CORRECT\n",
    "\n",
    "4097"
   ]
  },
  {
   "cell_type": "markdown",
   "metadata": {
    "deletable": true,
    "editable": true
   },
   "source": [
    "#### 8\n",
    "\n",
    "Suppose you have an input volume of dimension nH x nW x nC. Which of the following statements you agree with? (Assume that “1x1 convolutional layer” below always uses a stride of 1 and no padding.)\n",
    "\n",
    "You can use a pooling layer to reduce nH, nW, and nC.\n",
    "\n",
    "You can use a 1x1 convolutional layer to reduce nH, nW, and nC.\n",
    "\n",
    "You can use a pooling layer to reduce nH, nW, but not nC. CORRECT\n",
    "\n",
    "You can use a 1x1 convolutional layer to reduce nC but not nH, nW. CORRECT"
   ]
  },
  {
   "cell_type": "markdown",
   "metadata": {
    "deletable": true,
    "editable": true
   },
   "source": [
    "#### 9\n",
    "\n",
    "Which ones of the following statements on Inception Networks are true? (Check all that apply.)\n",
    "\n",
    "Making an inception network deeper (by stacking more inception blocks together) should not hurt training set performance.\n",
    "\n",
    "A single inception block allows the network to use a combination of 1x1, 3x3, 5x5 convolutions and pooling. CORRECT\n",
    "\n",
    "Inception networks incorporates a variety of network architectures (similar to dropout, which randomly chooses a network architecture on each step) and thus has a similar regularizing effect as dropout.\n",
    "\n",
    "Inception blocks usually use 1x1 convolutions to reduce the input data volume’s size before applying 3x3 and 5x5 convolutions. CORRECT"
   ]
  },
  {
   "cell_type": "markdown",
   "metadata": {
    "deletable": true,
    "editable": true
   },
   "source": [
    "#### 10\n",
    "\n",
    "\n",
    "Which of the following are common reasons for using open-source implementations of ConvNets (both the model and/or weights)? Check all that apply.\n",
    "\n",
    "Parameters trained for one computer vision task are often useful as pretraining for other computer vision tasks. CORRECT\n",
    "\n",
    "It is a convenient way to get working an implementation of a complex ConvNet architecture. CORRECT\n",
    "\n",
    "A model trained for one computer vision task can usually be used to perform data augmentation even for a different computer vision task.\n",
    "\n",
    "The same techniques for winning computer vision competitions, such as using multiple crops at test time, are widely used in practical deployments (or production system deployments) of ConvNets."
   ]
  }
 ],
 "metadata": {
  "kernelspec": {
   "display_name": "Python 3",
   "language": "python",
   "name": "python3"
  },
  "language_info": {
   "codemirror_mode": {
    "name": "ipython",
    "version": 3
   },
   "file_extension": ".py",
   "mimetype": "text/x-python",
   "name": "python",
   "nbconvert_exporter": "python",
   "pygments_lexer": "ipython3",
   "version": "3.6.2"
  }
 },
 "nbformat": 4,
 "nbformat_minor": 0
}
